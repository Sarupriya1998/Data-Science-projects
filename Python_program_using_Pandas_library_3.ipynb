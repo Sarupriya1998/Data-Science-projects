{
  "nbformat": 4,
  "nbformat_minor": 0,
  "metadata": {
    "colab": {
      "provenance": [],
      "authorship_tag": "ABX9TyP18T+3ip+F6/v/IRUzfEUH",
      "include_colab_link": true
    },
    "kernelspec": {
      "name": "python3",
      "display_name": "Python 3"
    },
    "language_info": {
      "name": "python"
    }
  },
  "cells": [
    {
      "cell_type": "markdown",
      "metadata": {
        "id": "view-in-github",
        "colab_type": "text"
      },
      "source": [
        "<a href=\"https://colab.research.google.com/github/Sarupriya1998/Data-Science-projects/blob/Python-Pandas-library/Python_program_using_Pandas_library_3.ipynb\" target=\"_parent\"><img src=\"https://colab.research.google.com/assets/colab-badge.svg\" alt=\"Open In Colab\"/></a>"
      ]
    },
    {
      "cell_type": "markdown",
      "source": [],
      "metadata": {
        "id": "Hwd3s-2a80Bp"
      }
    },
    {
      "cell_type": "markdown",
      "source": [
        "Write a Python program that reads the player.csv (provided on LMS) file into a DataFrame, then shows only those players who played more than 150 innings and scored at least two centuries and 35 fifties."
      ],
      "metadata": {
        "id": "M0YwC_7982Fb"
      }
    },
    {
      "cell_type": "code",
      "source": [
        "import pandas as pd\n",
        "b=pd.read_csv('player.csv')\n",
        "print(\"The input dataframe format:\")\n",
        "print(b)\n",
        "a=b[(b['innings']>150)&(b['100s']>2)&(b['50s']>35)]\n",
        "print(\"Output dataframe:\")\n",
        "print(a)\n"
      ],
      "metadata": {
        "colab": {
          "base_uri": "https://localhost:8080/"
        },
        "id": "6BrlM0G79MIe",
        "outputId": "b8deb196-3a08-4c7e-dedd-a8bd44fe0044"
      },
      "execution_count": null,
      "outputs": [
        {
          "output_type": "stream",
          "name": "stdout",
          "text": [
            "The input dataframe format:\n",
            "   rank             name  matches  innings  runs  highest  100s  50s\n",
            "0     1          V Kohli      207      199  6283      113     5   42\n",
            "1     2         S Dhawan      194      191  5784      106     2   44\n",
            "2     3     Rohit Sharma      213      208  5611      109     1   40\n",
            "3     4     Suresh Raina      205      200  5528      100     1   39\n",
            "4     5     David Warner      150      150  5449      126     4   50\n",
            "5     6  A B de Villiers      184      170  5162      133     3   40\n",
            "6     7      Chris Gayle      142      141  4965      175     6   31\n",
            "7     8        M S Dhoni      220      193  4746       84     0   23\n",
            "8     9    Robin Uthappa      193      186  4722       87     0   25\n",
            "9    10    Gutam Gambhir      154      152  4217       93     0   36\n",
            "Output dataframe:\n",
            "   rank             name  matches  innings  runs  highest  100s  50s\n",
            "0     1          V Kohli      207      199  6283      113     5   42\n",
            "5     6  A B de Villiers      184      170  5162      133     3   40\n"
          ]
        }
      ]
    },
    {
      "cell_type": "markdown",
      "source": [
        "Use the above data set and do the below tasks.\n",
        "1.Remove the data of players who didn't score a single century.\n",
        "2.Replace the player name \"V Kohli \" with \"Virat Kohli “\n",
        "3.How many matches they weren't getting a chance for batting to fetch that and stored in a new column and named it as “not batting”\n",
        "4.Fetch  data  where  they  scored  neither  100  nor  50  in  matches  and store itin the new column as renamed as “low score innings\""
      ],
      "metadata": {
        "id": "b5FgNZ5P-2Jz"
      }
    },
    {
      "cell_type": "code",
      "source": [
        "import pandas as pd\n",
        "a=pd.read_csv(\"player.csv\")\n",
        "a.drop(a[a['100s']==0].index,inplace=True)\n",
        "a['name']=a['name'].replace(to_replace='V Kohli',value='Virat Kohli')\n",
        "a['not batting']=a['matches']-a['innings']\n",
        "a['low score']=a['innings']-(a['100s']+a['50s'])\n",
        "print(a)\n"
      ],
      "metadata": {
        "colab": {
          "base_uri": "https://localhost:8080/"
        },
        "id": "m4c-Fmt-_RdO",
        "outputId": "cd099d18-595b-4094-8a88-9d0437b93232"
      },
      "execution_count": null,
      "outputs": [
        {
          "output_type": "stream",
          "name": "stdout",
          "text": [
            "   rank             name  matches  innings  runs  highest  100s  50s  \\\n",
            "0     1      Virat Kohli      207      199  6283      113     5   42   \n",
            "1     2         S Dhawan      194      191  5784      106     2   44   \n",
            "2     3     Rohit Sharma      213      208  5611      109     1   40   \n",
            "3     4     Suresh Raina      205      200  5528      100     1   39   \n",
            "4     5     David Warner      150      150  5449      126     4   50   \n",
            "5     6  A B de Villiers      184      170  5162      133     3   40   \n",
            "6     7      Chris Gayle      142      141  4965      175     6   31   \n",
            "\n",
            "   not batting  low score  \n",
            "0            8        152  \n",
            "1            3        145  \n",
            "2            5        167  \n",
            "3            5        160  \n",
            "4            0         96  \n",
            "5           14        127  \n",
            "6            1        104  \n"
          ]
        }
      ]
    }
  ]
}