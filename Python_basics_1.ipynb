{
  "nbformat": 4,
  "nbformat_minor": 0,
  "metadata": {
    "colab": {
      "provenance": [],
      "authorship_tag": "ABX9TyNq3RUdWTAMuK2AXuQgCchR",
      "include_colab_link": true
    },
    "kernelspec": {
      "name": "python3",
      "display_name": "Python 3"
    },
    "language_info": {
      "name": "python"
    }
  },
  "cells": [
    {
      "cell_type": "markdown",
      "metadata": {
        "id": "view-in-github",
        "colab_type": "text"
      },
      "source": [
        "<a href=\"https://colab.research.google.com/github/Sarupriya1998/Data-Science-projects/blob/saru/Python_basics_1.ipynb\" target=\"_parent\"><img src=\"https://colab.research.google.com/assets/colab-badge.svg\" alt=\"Open In Colab\"/></a>"
      ]
    },
    {
      "cell_type": "code",
      "execution_count": null,
      "metadata": {
        "id": "mnKT0RSUlePp"
      },
      "outputs": [],
      "source": []
    },
    {
      "cell_type": "markdown",
      "source": [
        "Write a Python program to create a math quiz that generates math questions using  random  numbers  and  operators  and  asks  the  user  to  enter  the  correct answer; evaluate the answer entered by the user and print a message whether the answer is correct or incorrect.\n",
        "\n"
      ],
      "metadata": {
        "id": "9nBcQbH8mGOt"
      }
    },
    {
      "cell_type": "code",
      "source": [
        "name=input(\"What is your name ?\")\n",
        "print(\"Alright\",name,\"Welcome to your maths quiz\")\n",
        "import random\n",
        "a=random.randint(0,10)\n",
        "b=random.randint(0,10)\n",
        "q=['+','-','*','/']\n",
        "c=random.choice(q)\n",
        "print(\"Your question is:\",a,c,b)\n",
        "d=eval(str(a)+c+str(b))\n",
        "e=int(input('What is your answer?'))\n",
        "if(e==d):\n",
        "  print(\"Correct\")\n",
        "else:\n",
        "  print(\"Incorrect\",\"The Correct answer is \",d)  "
      ],
      "metadata": {
        "colab": {
          "base_uri": "https://localhost:8080/"
        },
        "id": "a0yup3-2mjiC",
        "outputId": "5e4a8609-2267-413f-972c-5dd0e87d18e1"
      },
      "execution_count": null,
      "outputs": [
        {
          "output_type": "stream",
          "name": "stdout",
          "text": [
            "What is your name ?Shubham\n",
            "Alright Shubham Welcome to your maths quiz\n",
            "Your question is: 5 - 2\n",
            "What is your answer?4\n",
            "Incorrect The Correct answer is  3\n"
          ]
        }
      ]
    },
    {
      "cell_type": "markdown",
      "source": [
        "Write a Python program to create a Bus object that will inherit all the variables and methods of the parent Vehicle class and display it."
      ],
      "metadata": {
        "id": "Andg_opQ9e9x"
      }
    },
    {
      "cell_type": "code",
      "source": [
        "class vehicle:\n",
        "  def __init__(self,name,speed,mileage):\n",
        "    self.name=name\n",
        "    self.speed=speed\n",
        "    self.mileage=mileage\n",
        "class Bus(vehicle):\n",
        "  pass\n",
        "bus=Bus('Volvo Bus',220,14)  \n",
        "print(\"Vehicle Name:\",bus.name, \"Speed:\",bus.speed,\"Mileage:\",bus.mileage)\n",
        "\n",
        "\n",
        "\n",
        "\n",
        "\n",
        "\n"
      ],
      "metadata": {
        "colab": {
          "base_uri": "https://localhost:8080/"
        },
        "id": "5FWs2NsA9tFT",
        "outputId": "4b042f84-5f50-4edc-9c95-6dc9f903d3e8"
      },
      "execution_count": null,
      "outputs": [
        {
          "output_type": "stream",
          "name": "stdout",
          "text": [
            "Vehicle Name: Volvo Bus Speed: 220 Mileage: 14\n"
          ]
        }
      ]
    },
    {
      "cell_type": "markdown",
      "source": [],
      "metadata": {
        "id": "7tn1v7QqmRUY"
      }
    },
    {
      "cell_type": "code",
      "source": [],
      "metadata": {
        "id": "zpD8XQN8mYIZ"
      },
      "execution_count": null,
      "outputs": []
    },
    {
      "cell_type": "markdown",
      "source": [
        "Write a Python program to create a Bus object that will inherit all the variables and methods of the parent Vehicle class and display it."
      ],
      "metadata": {
        "id": "GpNwuOyurThs"
      }
    },
    {
      "cell_type": "code",
      "source": [],
      "metadata": {
        "id": "F_-oSkz3s4Jl"
      },
      "execution_count": null,
      "outputs": []
    },
    {
      "cell_type": "markdown",
      "source": [],
      "metadata": {
        "id": "Q87TjuStmT8R"
      }
    },
    {
      "cell_type": "code",
      "source": [],
      "metadata": {
        "id": "UJgJg2OfmUou"
      },
      "execution_count": null,
      "outputs": []
    },
    {
      "cell_type": "code",
      "source": [],
      "metadata": {
        "id": "FLvdYLTqmRyE"
      },
      "execution_count": null,
      "outputs": []
    },
    {
      "cell_type": "code",
      "source": [],
      "metadata": {
        "id": "Ws0sqi9RmR7G"
      },
      "execution_count": null,
      "outputs": []
    }
  ]
}