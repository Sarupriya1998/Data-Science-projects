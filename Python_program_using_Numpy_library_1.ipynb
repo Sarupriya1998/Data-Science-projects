{
  "nbformat": 4,
  "nbformat_minor": 0,
  "metadata": {
    "colab": {
      "provenance": [],
      "authorship_tag": "ABX9TyP45mTuJ1M2WpRbx+12k1Jx",
      "include_colab_link": true
    },
    "kernelspec": {
      "name": "python3",
      "display_name": "Python 3"
    },
    "language_info": {
      "name": "python"
    }
  },
  "cells": [
    {
      "cell_type": "markdown",
      "metadata": {
        "id": "view-in-github",
        "colab_type": "text"
      },
      "source": [
        "<a href=\"https://colab.research.google.com/github/Sarupriya1998/Data-Science-projects/blob/Python-Numpy-Library/Python_program_using_Numpy_library_1.ipynb\" target=\"_parent\"><img src=\"https://colab.research.google.com/assets/colab-badge.svg\" alt=\"Open In Colab\"/></a>"
      ]
    },
    {
      "cell_type": "code",
      "execution_count": null,
      "metadata": {
        "id": "YJAlkrlQmAK5"
      },
      "outputs": [],
      "source": []
    },
    {
      "cell_type": "markdown",
      "source": [
        "Write  a  Python  program  that  takes  the  speeds  of  any  vehicle  to  store  it  in  a NumPy array and calculates the average speed.\n",
        "Note:Use NumPy functions to get the desired output."
      ],
      "metadata": {
        "id": "Bto2qL6imE1P"
      }
    },
    {
      "cell_type": "code",
      "source": [
        "import numpy as np \n",
        "a=int(input(\"What number of speeds you want to enter?\"))\n",
        "arr=[]\n",
        "for i in range(a):\n",
        "  arr.append(float(input(\"Enter the speeds in Km/hr:\")))\n",
        "arr = np.array(arr) \n",
        "avg=np.mean(arr)\n",
        "print(\"The Average speed is :\",avg,\"Km/hr\")\n",
        "\n",
        "\n"
      ],
      "metadata": {
        "colab": {
          "base_uri": "https://localhost:8080/"
        },
        "id": "AGmbs0jcmMPP",
        "outputId": "0e2ecebb-18a2-4371-a837-d9078c93f83f"
      },
      "execution_count": null,
      "outputs": [
        {
          "output_type": "stream",
          "name": "stdout",
          "text": [
            "What number of speeds you want to enter?5\n",
            "Enter the speeds in Km/hr:92\n",
            "Enter the speeds in Km/hr:76\n",
            "Enter the speeds in Km/hr:83\n",
            "Enter the speeds in Km/hr:78\n",
            "Enter the speeds in Km/hr:84\n",
            "The Average speed is : 82.6 Km/hr\n"
          ]
        }
      ]
    },
    {
      "cell_type": "markdown",
      "source": [
        "Write a Python program to generate a 3-D array with integers of your choice, perform indexing, and print the first two rows and last two columns of the array.\n",
        "Note: Use NumPy arange()function to generate a random array"
      ],
      "metadata": {
        "id": "_tEMc0T24cOi"
      }
    },
    {
      "cell_type": "code",
      "source": [
        "import numpy as np\n",
        "arr=np.arange(0,20).reshape(5,4)\n",
        "print(arr)\n",
        "print(\"The first two rows are:\")\n",
        "print(arr[[0,1],:])\n",
        "print(\"The last two columns are:\")\n",
        "print(arr[:,[-2,-1]])\n"
      ],
      "metadata": {
        "colab": {
          "base_uri": "https://localhost:8080/"
        },
        "id": "4zbeeZhGDqp8",
        "outputId": "100cd7c5-610c-42ce-8e7d-0bfe7001a28f"
      },
      "execution_count": null,
      "outputs": [
        {
          "output_type": "stream",
          "name": "stdout",
          "text": [
            "[[ 0  1  2  3]\n",
            " [ 4  5  6  7]\n",
            " [ 8  9 10 11]\n",
            " [12 13 14 15]\n",
            " [16 17 18 19]]\n",
            "The first two rows are:\n",
            "[[0 1 2 3]\n",
            " [4 5 6 7]]\n",
            "The last two columns are:\n",
            "[[ 2  3]\n",
            " [ 6  7]\n",
            " [10 11]\n",
            " [14 15]\n",
            " [18 19]]\n"
          ]
        }
      ]
    }
  ]
}