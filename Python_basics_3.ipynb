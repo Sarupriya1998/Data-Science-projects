{
  "nbformat": 4,
  "nbformat_minor": 0,
  "metadata": {
    "colab": {
      "provenance": [],
      "authorship_tag": "ABX9TyOiRYwbqSDlFw9oWtzXSLHR",
      "include_colab_link": true
    },
    "kernelspec": {
      "name": "python3",
      "display_name": "Python 3"
    },
    "language_info": {
      "name": "python"
    }
  },
  "cells": [
    {
      "cell_type": "markdown",
      "metadata": {
        "id": "view-in-github",
        "colab_type": "text"
      },
      "source": [
        "<a href=\"https://colab.research.google.com/github/Sarupriya1998/Data-Science-projects/blob/saru/Python_basics_3.ipynb\" target=\"_parent\"><img src=\"https://colab.research.google.com/assets/colab-badge.svg\" alt=\"Open In Colab\"/></a>"
      ]
    },
    {
      "cell_type": "code",
      "execution_count": null,
      "metadata": {
        "id": "iilIOpuK7Bku"
      },
      "outputs": [],
      "source": []
    },
    {
      "cell_type": "markdown",
      "source": [
        "Write a Python program that takes a character as input from the user and prints whether the character entered by the user is a vowel or a consonant."
      ],
      "metadata": {
        "id": "yIqZorjo7CKT"
      }
    },
    {
      "cell_type": "code",
      "source": [
        "ch = input(\"Hello user, Please Enter a Character : \")\n",
        "if (ch=='A' or ch=='a' or ch=='E' or ch=='e' or ch=='I' or ch=='i' or ch=='O' or ch=='o' or ch=='U' or ch=='u'):\n",
        "  print(ch,\"is a Vowel\")\n",
        "else :\n",
        "  print(ch,\"is a Consonant\")"
      ],
      "metadata": {
        "colab": {
          "base_uri": "https://localhost:8080/"
        },
        "id": "pBUz4vIW7XvU",
        "outputId": "71c30c2c-647b-423a-b5e9-9752a69dd645"
      },
      "execution_count": null,
      "outputs": [
        {
          "output_type": "stream",
          "name": "stdout",
          "text": [
            "Hello user, Please Enter a Character : S\n",
            "S is a Consonant\n"
          ]
        }
      ]
    },
    {
      "cell_type": "markdown",
      "source": [
        "Write a Python program that takes an integer as input and prints a multiplication table from 1 to 10."
      ],
      "metadata": {
        "id": "EC8JEYOD9XXn"
      }
    },
    {
      "cell_type": "code",
      "source": [
        "a = int (input(\"Please Enter a Number : \"))\n",
        "for i in range(1,11) :\n",
        "  print (a,\"x\",i,\"=\",a*i)\n"
      ],
      "metadata": {
        "colab": {
          "base_uri": "https://localhost:8080/"
        },
        "id": "ZnmzcrfE9eb4",
        "outputId": "d5cf820c-bc98-437b-d6bb-cac453186ff5"
      },
      "execution_count": null,
      "outputs": [
        {
          "output_type": "stream",
          "name": "stdout",
          "text": [
            "Please Enter a Number : 5\n",
            "5 x 1 = 5\n",
            "5 x 2 = 10\n",
            "5 x 3 = 15\n",
            "5 x 4 = 20\n",
            "5 x 5 = 25\n",
            "5 x 6 = 30\n",
            "5 x 7 = 35\n",
            "5 x 8 = 40\n",
            "5 x 9 = 45\n",
            "5 x 10 = 50\n"
          ]
        }
      ]
    }
  ]
}