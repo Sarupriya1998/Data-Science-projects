{
  "nbformat": 4,
  "nbformat_minor": 0,
  "metadata": {
    "colab": {
      "provenance": [],
      "authorship_tag": "ABX9TyPkUH/FzukBiF354LxCKJYi",
      "include_colab_link": true
    },
    "kernelspec": {
      "name": "python3",
      "display_name": "Python 3"
    },
    "language_info": {
      "name": "python"
    }
  },
  "cells": [
    {
      "cell_type": "markdown",
      "metadata": {
        "id": "view-in-github",
        "colab_type": "text"
      },
      "source": [
        "<a href=\"https://colab.research.google.com/github/Sarupriya1998/Data-Science-projects/blob/saru/Python_Basics_2.ipynb\" target=\"_parent\"><img src=\"https://colab.research.google.com/assets/colab-badge.svg\" alt=\"Open In Colab\"/></a>"
      ]
    },
    {
      "cell_type": "markdown",
      "source": [
        "Write  a  Python  programwith  a  user-defined  function that  takes two integers  as  input,  dividend,  and  divisor.  Print the quotient  and  the remainder of the two numbers by dividing them using the “//” and “%” operators."
      ],
      "metadata": {
        "id": "f5COCwx6MB3I"
      }
    },
    {
      "cell_type": "code",
      "source": [],
      "metadata": {
        "id": "5qZD_VR8YWuU"
      },
      "execution_count": null,
      "outputs": []
    },
    {
      "cell_type": "markdown",
      "source": [],
      "metadata": {
        "id": "yar3LIc5YRN1"
      }
    },
    {
      "cell_type": "code",
      "source": [
        "a=int(input(\"Enter the Dividend: \"))\n",
        "b=int(input(\"Enter the Divisor: \"))\n",
        "def num(a,b):\n",
        " c=a//b\n",
        "print(\"Quotient: \",c)  \n",
        "d=a%b\n",
        "print(\"Remainder:\",d)"
      ],
      "metadata": {
        "colab": {
          "base_uri": "https://localhost:8080/"
        },
        "id": "fBmc-N1hMO5d",
        "outputId": "b7f77c1c-07fe-4b72-e8c4-3425f1bd5632"
      },
      "execution_count": null,
      "outputs": [
        {
          "output_type": "stream",
          "name": "stdout",
          "text": [
            "Enter the Dividend: 25\n",
            "Enter the Divisor: 5\n",
            "Quotient:  5\n",
            "Remainder: 0\n"
          ]
        }
      ]
    },
    {
      "cell_type": "markdown",
      "source": [],
      "metadata": {
        "id": "dYw_45JlM8Kq"
      }
    },
    {
      "cell_type": "code",
      "source": [],
      "metadata": {
        "id": "-9H2zSP9NDQB"
      },
      "execution_count": null,
      "outputs": []
    },
    {
      "cell_type": "markdown",
      "source": [
        "Write a program in Python to calculate simple interest using the lambda\n",
        "function.\n",
        "Hint: Simple interest = (P * R * T)/100, where P is the principal amount,\n",
        "R is the rate, and T is the time/number of years."
      ],
      "metadata": {
        "id": "eb9RpQMPND_v"
      }
    },
    {
      "cell_type": "code",
      "source": [
        "P=int(input(\"Enter the Principal Amount: \"))\n",
        "R=int(input(\"Enter the Time(Number of years): \"))\n",
        "T=int(input(\"Enter the Interest Rate: \"))\n",
        "F=lambda P,R,T : (P*R*T)/100\n",
        "print(\"The Simple Interest is: \",F(P,R,T))"
      ],
      "metadata": {
        "colab": {
          "base_uri": "https://localhost:8080/"
        },
        "id": "7A5uIS3-NFhg",
        "outputId": "6a42651a-acb9-4d65-9997-d5db31b8e919"
      },
      "execution_count": null,
      "outputs": [
        {
          "output_type": "stream",
          "name": "stdout",
          "text": [
            "Enter the Principal Amount: 40000\n",
            "Enter the Time(Number of years): 5\n",
            "Enter the Interest Rate: 8\n",
            "The Simple Interest is:  16000.0\n"
          ]
        }
      ]
    }
  ]
}