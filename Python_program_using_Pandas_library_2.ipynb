{
  "nbformat": 4,
  "nbformat_minor": 0,
  "metadata": {
    "colab": {
      "provenance": [],
      "authorship_tag": "ABX9TyN6+a4alxFP+6/7yTH5GACl",
      "include_colab_link": true
    },
    "kernelspec": {
      "name": "python3",
      "display_name": "Python 3"
    },
    "language_info": {
      "name": "python"
    }
  },
  "cells": [
    {
      "cell_type": "markdown",
      "metadata": {
        "id": "view-in-github",
        "colab_type": "text"
      },
      "source": [
        "<a href=\"https://colab.research.google.com/github/Sarupriya1998/Data-Science-projects/blob/Python-Pandas-library/Python_program_using_Pandas_library_2.ipynb\" target=\"_parent\"><img src=\"https://colab.research.google.com/assets/colab-badge.svg\" alt=\"Open In Colab\"/></a>"
      ]
    },
    {
      "cell_type": "code",
      "execution_count": null,
      "metadata": {
        "id": "oTnK4pitp72h"
      },
      "outputs": [],
      "source": []
    },
    {
      "cell_type": "markdown",
      "source": [
        "Write a Python program to create two lists -one for countries and another for country codes. Create a pandas series from these two lists with the codes as the index. Print the length, shape, and size of the series too."
      ],
      "metadata": {
        "id": "ekls2u4Cp9L1"
      }
    },
    {
      "cell_type": "code",
      "source": [
        "print(\"The series is :\")\n",
        "import pandas as pd\n",
        "a=['India','Canada','Australia','Japan','Germany','France']\n",
        "b = ['IND','CAN','AUS','JAP','GER','FRA']\n",
        "series=pd.Series(a,b)\n",
        "print(series)\n",
        "print(\"Length of the series is:\",len(series))\n",
        "print(\"Shape of the series is:\",series.shape)\n",
        "print(\"Size of the series is:\",series.size)\n"
      ],
      "metadata": {
        "colab": {
          "base_uri": "https://localhost:8080/"
        },
        "id": "XNMXbHiBp-0Q",
        "outputId": "39cff7d0-e4b6-4194-8c72-b9d7c86f18e6"
      },
      "execution_count": null,
      "outputs": [
        {
          "output_type": "stream",
          "name": "stdout",
          "text": [
            "The series is :\n",
            "IND        India\n",
            "CAN       Canada\n",
            "AUS    Australia\n",
            "JAP        Japan\n",
            "GER      Germany\n",
            "FRA       France\n",
            "dtype: object\n",
            "Length of the series is: 6\n",
            "Shape of the series is: (6,)\n",
            "Size of the series is: 6\n"
          ]
        }
      ]
    },
    {
      "cell_type": "markdown",
      "source": [
        "Write a Python program that reads Name, Age, and Roll no. as input from the user and stores it into a DataFrame,and prints the DataFrame you have created"
      ],
      "metadata": {
        "id": "SGp4x_ZUvmU8"
      }
    },
    {
      "cell_type": "code",
      "source": [
        "import pandas as pd\n",
        "R=int(input('Enter the number of student records you want to store:'))\n",
        "name=[]\n",
        "age=[]\n",
        "rollno=[]\n",
        "for i in range(R):\n",
        "  name.append(input('Enter the name:'))\n",
        "  age.append(int(input('Enter the age:')))\n",
        "  rollno.append(int(input('Enter the rollno:')))\n",
        "b=pd.DataFrame({'Name':name,'Age':age,'Rollno':rollno})  \n",
        "print(\"The DataFrame is-__________\")\n",
        "print(b)"
      ],
      "metadata": {
        "colab": {
          "base_uri": "https://localhost:8080/"
        },
        "id": "M2_pGibKvx38",
        "outputId": "68d3f9de-01e6-4741-f8ff-49971d6145e6"
      },
      "execution_count": null,
      "outputs": [
        {
          "output_type": "stream",
          "name": "stdout",
          "text": [
            "Enter the number of student records you want to store:2\n",
            "Enter the name:Charu\n",
            "Enter the age:24\n",
            "Enter the rollno:34\n",
            "Enter the name:Maha\n",
            "Enter the age:22\n",
            "Enter the rollno:33\n",
            "The DataFrame is-__________\n",
            "    Name  Age  Rollno\n",
            "0  Charu   24      34\n",
            "1   Maha   22      33\n"
          ]
        }
      ]
    },
    {
      "cell_type": "markdown",
      "source": [],
      "metadata": {
        "id": "sOHSPPKzvwDD"
      }
    },
    {
      "cell_type": "code",
      "source": [],
      "metadata": {
        "id": "88KFlAmpvwlv"
      },
      "execution_count": null,
      "outputs": []
    }
  ]
}