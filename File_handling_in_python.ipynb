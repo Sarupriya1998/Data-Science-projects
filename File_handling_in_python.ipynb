{
  "nbformat": 4,
  "nbformat_minor": 0,
  "metadata": {
    "colab": {
      "provenance": [],
      "authorship_tag": "ABX9TyPpPlu/zMlNoP2WhKr4t8gA",
      "include_colab_link": true
    },
    "kernelspec": {
      "name": "python3",
      "display_name": "Python 3"
    },
    "language_info": {
      "name": "python"
    }
  },
  "cells": [
    {
      "cell_type": "markdown",
      "metadata": {
        "id": "view-in-github",
        "colab_type": "text"
      },
      "source": [
        "<a href=\"https://colab.research.google.com/github/Sarupriya1998/Data-Science-projects/blob/saru/File_handling_in_python.ipynb\" target=\"_parent\"><img src=\"https://colab.research.google.com/assets/colab-badge.svg\" alt=\"Open In Colab\"/></a>"
      ]
    },
    {
      "cell_type": "code",
      "execution_count": null,
      "metadata": {
        "id": "3kwVt4EtEYAW"
      },
      "outputs": [],
      "source": []
    },
    {
      "cell_type": "markdown",
      "source": [
        "Write a Python program that reads text from a poem.txtfile (Provided on the LMS) in read-only mode and prints it line-by-line."
      ],
      "metadata": {
        "id": "-XuqdKd7EY4-"
      }
    },
    {
      "cell_type": "code",
      "source": [
        "a=open('Poem.txt','r')\n",
        "for i in a:\n",
        "  print(i,end='')\n",
        "a.close()"
      ],
      "metadata": {
        "colab": {
          "base_uri": "https://localhost:8080/"
        },
        "id": "-2tSRI_PEeYm",
        "outputId": "616b78a6-c331-4075-b3e4-9fb8953b02c5"
      },
      "execution_count": null,
      "outputs": [
        {
          "output_type": "stream",
          "name": "stdout",
          "text": [
            "Jack and Jill went up the hill\n",
            "To fetch a pail of water.\n",
            "Jack fell down and broke his crown,\n",
            "And Jill came tumbling after.\n",
            "Then up got Jack and said to Jill,\n",
            "As in his arms he took her,\n",
            "“Brush off that dirt for you’re not hurt,\n",
            "Let’s fetch that pail of water.”\n",
            "So Jack and Jill went up the hill\n",
            "To fetch the pail of water,\n",
            "And took it home to Mother dear,\n",
            "Who thanked her son and daughter.\n",
            "\n"
          ]
        }
      ]
    },
    {
      "cell_type": "markdown",
      "source": [
        "Write  a  Python  program  that  opens  the poem.txtfile  (Provided  on  the  LMS). Replace all the words in the poem, starting from “J” to “K,” and print the new version of the poem."
      ],
      "metadata": {
        "id": "fcP-x0mhOIGm"
      }
    },
    {
      "cell_type": "code",
      "source": [
        "a=open('Poem.txt','r')\n",
        "b=a.read()\n",
        "for i in b:\n",
        "  if(i=='J'):\n",
        "    print('K',end='')\n",
        "  else:\n",
        "    print(i,end='') \n",
        "    a.close() "
      ],
      "metadata": {
        "colab": {
          "base_uri": "https://localhost:8080/"
        },
        "id": "-EIYAITeOUyY",
        "outputId": "592fd2d1-a8e7-44c6-adda-5fc90c7e6848"
      },
      "execution_count": null,
      "outputs": [
        {
          "output_type": "stream",
          "name": "stdout",
          "text": [
            "Kack and Kill went up the hill\n",
            "To fetch a pail of water.\n",
            "Kack fell down and broke his crown,\n",
            "And Kill came tumbling after.\n",
            "Then up got Kack and said to Kill,\n",
            "As in his arms he took her,\n",
            "“Brush off that dirt for you’re not hurt,\n",
            "Let’s fetch that pail of water.”\n",
            "So Kack and Kill went up the hill\n",
            "To fetch the pail of water,\n",
            "And took it home to Mother dear,\n",
            "Who thanked her son and daughter.\n",
            "\n"
          ]
        }
      ]
    }
  ]
}