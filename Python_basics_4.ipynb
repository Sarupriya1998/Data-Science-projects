{
  "nbformat": 4,
  "nbformat_minor": 0,
  "metadata": {
    "colab": {
      "provenance": [],
      "authorship_tag": "ABX9TyNLaPb0OYyZWa8x2nFbAKrj",
      "include_colab_link": true
    },
    "kernelspec": {
      "name": "python3",
      "display_name": "Python 3"
    },
    "language_info": {
      "name": "python"
    }
  },
  "cells": [
    {
      "cell_type": "markdown",
      "metadata": {
        "id": "view-in-github",
        "colab_type": "text"
      },
      "source": [
        "<a href=\"https://colab.research.google.com/github/Sarupriya1998/Data-Science-projects/blob/saru/Python_basics_4.ipynb\" target=\"_parent\"><img src=\"https://colab.research.google.com/assets/colab-badge.svg\" alt=\"Open In Colab\"/></a>"
      ]
    },
    {
      "cell_type": "code",
      "execution_count": null,
      "metadata": {
        "id": "NI0ZfFdTFPuO"
      },
      "outputs": [],
      "source": []
    },
    {
      "cell_type": "markdown",
      "source": [
        "Write  a  Python  program  that  takes  marks  as  input  for  six  subjects, with maximum  marks   being  600, and prints  total  marks,  average  marks,  and percentagesobtained by a student."
      ],
      "metadata": {
        "id": "wegnINPkFRRi"
      }
    },
    {
      "cell_type": "markdown",
      "source": [],
      "metadata": {
        "id": "EMf1d0BAJljl"
      }
    },
    {
      "cell_type": "code",
      "source": [
        "sub = input(\"Enter the marks of all six subjects, one by one ::\")\n",
        "sub_a = float(input(\"Enter the marks out of 100 obtained in subject-1 : \"))\n",
        "sub_b = float(input(\"Enter the marks out of 100 obtained in subject-2 : \"))\n",
        "sub_c = float(input(\"Enter the marks out of 100 obtained in subject-3 : \"))\n",
        "sub_d = float(input(\"Enter the marks out of 100 obtained in subject-4 : \"))\n",
        "sub_e = float(input(\"Enter the marks out of 100 obtained in subject-5 : \"))\n",
        "sub_f = float(input(\"Enter the marks out of 100 obtained in subject-6 : \"))\n",
        "total = sub_a + sub_b + sub_c + sub_d + sub_e + sub_f\n",
        "average = total/6\n",
        "percentage = total/600 * 100\n",
        "print (\"Total marks obtained : %.2f\" %total)\n",
        "print (\"Average marks obtained : %.2f\" %average)\n",
        "print (\"Percentage obtained : %.2f\" %percentage)\n",
        "\n"
      ],
      "metadata": {
        "colab": {
          "base_uri": "https://localhost:8080/"
        },
        "id": "QSUxMoLDFjQc",
        "outputId": "42e3dd1c-fe96-4224-e485-e6aeef357855"
      },
      "execution_count": null,
      "outputs": [
        {
          "output_type": "stream",
          "name": "stdout",
          "text": [
            "Enter the marks of all six subjects, one by one ::\n",
            "Enter the marks out of 100 obtained in subject-1 : 76\n",
            "Enter the marks out of 100 obtained in subject-2 : 56\n",
            "Enter the marks out of 100 obtained in subject-3 : 78\n",
            "Enter the marks out of 100 obtained in subject-4 : 75\n",
            "Enter the marks out of 100 obtained in subject-5 : 69\n",
            "Enter the marks out of 100 obtained in subject-6 : 74\n",
            "Total marks obtained : 428.00\n",
            "Average marks obtained : 71.33\n",
            "Percentage obtained : 71.33\n"
          ]
        }
      ]
    },
    {
      "cell_type": "markdown",
      "source": [],
      "metadata": {
        "id": "u1mzTiMBJ9FR"
      }
    },
    {
      "cell_type": "markdown",
      "source": [
        "Declare a nested list with Exam scores and Student names as shown here -\n",
        "\"score=[[510, 'John'],[280, 'Lucy']……]\".Write a Python program\n",
        "to sort the list based on scores and print the students' names with first and\n",
        "second-highest scores"
      ],
      "metadata": {
        "id": "drSnOIipKPB8"
      }
    },
    {
      "cell_type": "code",
      "source": [
        "score = [[65,'Harshit'],[64,'Jay'],[55,'Sachin'],[558,'Vishal'],[255,'Vinay']]\n",
        "score.sort()\n",
        "score.reverse()\n",
        "print(score)\n",
        "print(\"Student with highest marks is :\",score[0][1] )\n",
        "print (\"And the student with second highest marks is :\",score[1][1])\n"
      ],
      "metadata": {
        "colab": {
          "base_uri": "https://localhost:8080/"
        },
        "id": "k-74TqkFKUt7",
        "outputId": "0bae6f25-8f11-4da3-e7a3-02a12223a90d"
      },
      "execution_count": null,
      "outputs": [
        {
          "output_type": "stream",
          "name": "stdout",
          "text": [
            "[[558, 'Vishal'], [255, 'Vinay'], [65, 'Harshit'], [64, 'Jay'], [55, 'Sachin']]\n",
            "Student with highest marks is : Vishal\n",
            "And the student with second highest marks is : Vinay\n"
          ]
        }
      ]
    },
    {
      "cell_type": "markdown",
      "source": [],
      "metadata": {
        "id": "WmOPLer6JLQm"
      }
    },
    {
      "cell_type": "markdown",
      "source": [],
      "metadata": {
        "id": "0opjcvFjaAAJ"
      }
    },
    {
      "cell_type": "code",
      "source": [],
      "metadata": {
        "id": "-i4KKFCKJNkB"
      },
      "execution_count": null,
      "outputs": []
    },
    {
      "cell_type": "markdown",
      "source": [],
      "metadata": {
        "id": "FtSBsLrYJO62"
      }
    }
  ]
}