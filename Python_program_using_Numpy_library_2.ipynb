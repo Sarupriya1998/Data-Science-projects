{
  "nbformat": 4,
  "nbformat_minor": 0,
  "metadata": {
    "colab": {
      "provenance": [],
      "authorship_tag": "ABX9TyMWmEgMCBkOybXHS4NpqOSm",
      "include_colab_link": true
    },
    "kernelspec": {
      "name": "python3",
      "display_name": "Python 3"
    },
    "language_info": {
      "name": "python"
    }
  },
  "cells": [
    {
      "cell_type": "markdown",
      "metadata": {
        "id": "view-in-github",
        "colab_type": "text"
      },
      "source": [
        "<a href=\"https://colab.research.google.com/github/Sarupriya1998/Data-Science-projects/blob/Python-Numpy-Library/Python_program_using_Numpy_library_2.ipynb\" target=\"_parent\"><img src=\"https://colab.research.google.com/assets/colab-badge.svg\" alt=\"Open In Colab\"/></a>"
      ]
    },
    {
      "cell_type": "code",
      "execution_count": null,
      "metadata": {
        "id": "9TuaVPhBUvBg"
      },
      "outputs": [],
      "source": []
    },
    {
      "cell_type": "markdown",
      "source": [
        "Write a Python program that prints odd numbers from 1 to 30 using the NumPy array. Also, print the data type of output."
      ],
      "metadata": {
        "id": "0LCz3wSxUz4T"
      }
    },
    {
      "cell_type": "code",
      "source": [
        "import numpy as np\n",
        "x=np.log(-1)\n",
        "print(x)"
      ],
      "metadata": {
        "colab": {
          "base_uri": "https://localhost:8080/"
        },
        "id": "e5GhefdHU8Yc",
        "outputId": "83ccbe1e-2ab2-4383-86cd-05dc43ac09f1"
      },
      "execution_count": null,
      "outputs": [
        {
          "output_type": "stream",
          "name": "stdout",
          "text": [
            "nan\n"
          ]
        },
        {
          "output_type": "stream",
          "name": "stderr",
          "text": [
            "<ipython-input-14-a2c9ff5884a0>:2: RuntimeWarning: invalid value encountered in log\n",
            "  x=np.log(-1)\n"
          ]
        }
      ]
    },
    {
      "cell_type": "code",
      "source": [
        "base=3\n",
        "height=4\n",
        "hypotenuse=np.hypot(base,height)\n",
        "print(hypotenuse)"
      ],
      "metadata": {
        "colab": {
          "base_uri": "https://localhost:8080/"
        },
        "id": "qHebsUJDAJKc",
        "outputId": "8fb20af6-ba15-4f76-bc55-4da0cd800716"
      },
      "execution_count": null,
      "outputs": [
        {
          "output_type": "stream",
          "name": "stdout",
          "text": [
            "5.0\n"
          ]
        }
      ]
    },
    {
      "cell_type": "markdown",
      "source": [
        "Write a Python program to declare a list and NumPy arrays(1-D, 2-D, and 3-D) and compare the size of the list and the arrays. Also, compare the size of each element in the list and the arrays (in terms of memory occupancy)."
      ],
      "metadata": {
        "id": "3v7Ru1SbVOzA"
      }
    },
    {
      "cell_type": "code",
      "source": [
        "import numpy as np\n",
        "import sys\n",
        "a=[0,1,2,3,4,5,6,7,8,9]\n",
        "print(\"Size of each element of list in bytes:\",sys.getsizeof(a[0]))\n",
        "print(\"Size of the whole list in bytes:\",sys.getsizeof(a))\n",
        "array_size=10\n",
        "oneD=np.random.rand(array_size)\n",
        "twoD=np.random.rand(array_size,2)\n",
        "threeD=np.random.rand(array_size,3)     \n",
        "print(\"Size of each element of the array in bytes:\",oneD.itemsize)\n",
        "print(\"Size of the whole array in bytes:\",oneD.nbytes)\n",
        "print(\"Size of each element of the array in bytes:\",twoD.itemsize)\n",
        "print(\"Size of the whole array in bytes:\",twoD.nbytes)\n",
        "print(\"Size of each element of the array in bytes:\",threeD.itemsize)\n",
        "print(\"Size of the whole array in bytes:\",threeD.nbytes)\n",
        "\n",
        "\n",
        "\n"
      ],
      "metadata": {
        "colab": {
          "base_uri": "https://localhost:8080/"
        },
        "id": "J37JZ-VPVUIl",
        "outputId": "5702d65e-65c5-4977-eaf0-4f840d43c271"
      },
      "execution_count": null,
      "outputs": [
        {
          "output_type": "stream",
          "name": "stdout",
          "text": [
            "Size of each element of list in bytes: 24\n",
            "Size of the whole list in bytes: 136\n",
            "Size of each element of the array in bytes: 8\n",
            "Size of the whole array in bytes: 80\n",
            "Size of each element of the array in bytes: 8\n",
            "Size of the whole array in bytes: 160\n",
            "Size of each element of the array in bytes: 8\n",
            "Size of the whole array in bytes: 240\n"
          ]
        }
      ]
    },
    {
      "cell_type": "markdown",
      "source": [],
      "metadata": {
        "id": "O3kN1K8mU7Fb"
      }
    },
    {
      "cell_type": "code",
      "source": [],
      "metadata": {
        "id": "sOuXRBItU7Ze"
      },
      "execution_count": null,
      "outputs": []
    }
  ]
}